{
  "nbformat": 4,
  "nbformat_minor": 0,
  "metadata": {
    "colab": {
      "provenance": [],
      "toc_visible": true
    },
    "kernelspec": {
      "name": "python3",
      "display_name": "Python 3"
    },
    "language_info": {
      "name": "python"
    }
  },
  "cells": [
    {
      "cell_type": "markdown",
      "source": [
        "# DAY 3: Student version"
      ],
      "metadata": {
        "id": "Xycip-y7MmUq"
      }
    },
    {
      "cell_type": "markdown",
      "source": [
        "**Machine Learning NLP**\n",
        "\n",
        "The goal of this session is to improve the search engine using NLP features.\n",
        "\n",
        "This notebook guides you through different techniques to explore. It is expected of you to be inventive and improve the techniques introduced. \n",
        "\n",
        "First, let's import the useful packages and load the data."
      ],
      "metadata": {
        "id": "gnCKD6NtjZno"
      }
    },
    {
      "cell_type": "markdown",
      "source": [
        "## Installs"
      ],
      "metadata": {
        "id": "tS0Nv3gMZw7D"
      }
    },
    {
      "cell_type": "code",
      "source": [
        "! pip install sentence-transformers --quiet"
      ],
      "metadata": {
        "colab": {
          "base_uri": "https://localhost:8080/"
        },
        "id": "BU8SMVS4Zu0w",
        "outputId": "08b4e144-deea-4a51-e3a7-e0403c67f18e"
      },
      "execution_count": 1,
      "outputs": [
        {
          "output_type": "stream",
          "name": "stdout",
          "text": [
            "\u001b[?25l     \u001b[90m━━━━━━━━━━━━━━━━━━━━━━━━━━━━━━━━━━━━━━━━\u001b[0m \u001b[32m0.0/86.0 kB\u001b[0m \u001b[31m?\u001b[0m eta \u001b[36m-:--:--\u001b[0m\r\u001b[2K     \u001b[90m━━━━━━━━━━━━━━━━━━━━━━━━━━━━━━━━━━━━━━━━\u001b[0m \u001b[32m86.0/86.0 kB\u001b[0m \u001b[31m3.2 MB/s\u001b[0m eta \u001b[36m0:00:00\u001b[0m\n",
            "\u001b[?25h  Preparing metadata (setup.py) ... \u001b[?25l\u001b[?25hdone\n",
            "\u001b[2K     \u001b[90m━━━━━━━━━━━━━━━━━━━━━━━━━━━━━━━━━━━━━━━━\u001b[0m \u001b[32m7.1/7.1 MB\u001b[0m \u001b[31m44.9 MB/s\u001b[0m eta \u001b[36m0:00:00\u001b[0m\n",
            "\u001b[2K     \u001b[90m━━━━━━━━━━━━━━━━━━━━━━━━━━━━━━━━━━━━━━━━\u001b[0m \u001b[32m1.3/1.3 MB\u001b[0m \u001b[31m49.7 MB/s\u001b[0m eta \u001b[36m0:00:00\u001b[0m\n",
            "\u001b[2K     \u001b[90m━━━━━━━━━━━━━━━━━━━━━━━━━━━━━━━━━━━━━━\u001b[0m \u001b[32m224.5/224.5 kB\u001b[0m \u001b[31m18.0 MB/s\u001b[0m eta \u001b[36m0:00:00\u001b[0m\n",
            "\u001b[2K     \u001b[90m━━━━━━━━━━━━━━━━━━━━━━━━━━━━━━━━━━━━━━━━\u001b[0m \u001b[32m7.8/7.8 MB\u001b[0m \u001b[31m60.3 MB/s\u001b[0m eta \u001b[36m0:00:00\u001b[0m\n",
            "\u001b[?25h  Building wheel for sentence-transformers (setup.py) ... \u001b[?25l\u001b[?25hdone\n"
          ]
        }
      ]
    },
    {
      "cell_type": "markdown",
      "source": [
        "## Imports"
      ],
      "metadata": {
        "id": "TBamWPKlkZs0"
      }
    },
    {
      "cell_type": "code",
      "source": [
        "import os\n",
        "import re\n",
        "import pandas as pd\n",
        "import numpy as np\n",
        "\n",
        "from sklearn.feature_extraction.text import CountVectorizer, TfidfVectorizer\n",
        "from sklearn.decomposition import LatentDirichletAllocation\n",
        "from scipy.sparse import find\n",
        "\n",
        "from sentence_transformers import SentenceTransformer\n",
        "\n",
        "import nltk\n",
        "nltk.download('punkt')\n",
        "nltk.download('wordnet')\n",
        "\n",
        "from nltk import word_tokenize          \n",
        "from nltk.stem import WordNetLemmatizer "
      ],
      "metadata": {
        "id": "50KuGjmPjquG",
        "outputId": "62fac22d-acae-4b5f-81e6-ed3b122be282",
        "colab": {
          "base_uri": "https://localhost:8080/"
        }
      },
      "execution_count": 2,
      "outputs": [
        {
          "output_type": "stream",
          "name": "stderr",
          "text": [
            "[nltk_data] Downloading package punkt to /root/nltk_data...\n",
            "[nltk_data]   Unzipping tokenizers/punkt.zip.\n",
            "[nltk_data] Downloading package wordnet to /root/nltk_data...\n"
          ]
        }
      ]
    },
    {
      "cell_type": "markdown",
      "source": [
        "## Load Data"
      ],
      "metadata": {
        "id": "bVl7AEcBkgyz"
      }
    },
    {
      "cell_type": "code",
      "source": [
        "# Only if you use Colab\n",
        "from google.colab import drive\n",
        "drive.mount('/content/drive')\n",
        "\n",
        "import os\n",
        "\n",
        "# TODO:\n",
        "DATA_PATH = '/content/drive/MyDrive/EI/data' \n",
        "\n",
        "# CORR:\n",
        "# DATA_PATH = '/content/drive/MyDrive/TP Centrale/data'\n",
        "     "
      ],
      "metadata": {
        "colab": {
          "base_uri": "https://localhost:8080/"
        },
        "id": "aVb0xZIvkevD",
        "outputId": "0713c229-7a0d-4e1e-bb0c-74359a683409"
      },
      "execution_count": 6,
      "outputs": [
        {
          "output_type": "stream",
          "name": "stdout",
          "text": [
            "Mounted at /content/drive\n"
          ]
        }
      ]
    },
    {
      "cell_type": "code",
      "source": [
        "posts = pd.read_xml(os.path.join(DATA_PATH, 'Posts.xml'), parser=\"etree\", encoding=\"utf8\")\n",
        "posts"
      ],
      "metadata": {
        "id": "YBtfx_3RYSs9",
        "outputId": "81e6d741-e8e2-4af2-9ce9-f73f7cb5af8e",
        "colab": {
          "base_uri": "https://localhost:8080/",
          "height": 1000
        }
      },
      "execution_count": 7,
      "outputs": [
        {
          "output_type": "execute_result",
          "data": {
            "text/plain": [
              "           Id  PostTypeId             CreationDate  Score  ViewCount  \\\n",
              "0           5           1  2014-05-13T23:58:30.457      9      898.0   \n",
              "1           7           1  2014-05-14T00:11:06.457      4      478.0   \n",
              "2           9           2  2014-05-14T00:36:31.077      5        NaN   \n",
              "3          10           2  2014-05-14T00:53:43.273     13        NaN   \n",
              "4          14           1  2014-05-14T01:25:59.677     26     1901.0   \n",
              "...       ...         ...                      ...    ...        ...   \n",
              "75722  119962           1  2023-03-04T20:06:06.820      0        8.0   \n",
              "75723  119963           1  2023-03-04T20:12:19.677      0       10.0   \n",
              "75724  119964           1  2023-03-05T00:14:12.597      0        7.0   \n",
              "75725  119965           1  2023-03-05T00:43:12.213      0        5.0   \n",
              "75726  119966           1  2023-03-05T03:10:27.593      0        2.0   \n",
              "\n",
              "                                                    Body  OwnerUserId  \\\n",
              "0      <p>I've always been interested in machine lear...          5.0   \n",
              "1      <p>As a researcher and instructor, I'm looking...         36.0   \n",
              "2      <p>Not sure if this fits the scope of this SE,...         51.0   \n",
              "3      <p>One book that's freely available is \"The El...         22.0   \n",
              "4      <p>I am sure data science as will be discussed...         66.0   \n",
              "...                                                  ...          ...   \n",
              "75722  <p>I am implementing a neural network of arbit...     147597.0   \n",
              "75723  <p>I am using KNN for a regression task</p>\\n<...     147598.0   \n",
              "75724  <p>I have developed a small encoding algorithm...      44581.0   \n",
              "75725  <p>To my understanding, optimizing a model wit...      84437.0   \n",
              "75726  <p>I'm working with a dataset of cars, contain...     147605.0   \n",
              "\n",
              "              LastActivityDate  \\\n",
              "0      2014-05-14T00:36:31.077   \n",
              "1      2014-05-16T13:45:00.237   \n",
              "2      2014-05-14T00:36:31.077   \n",
              "3      2014-05-14T00:53:43.273   \n",
              "4      2020-08-16T13:01:33.543   \n",
              "...                        ...   \n",
              "75722  2023-03-04T20:22:12.523   \n",
              "75723  2023-03-04T20:12:19.677   \n",
              "75724  2023-03-05T00:14:12.597   \n",
              "75725  2023-03-05T00:43:12.213   \n",
              "75726  2023-03-05T03:10:27.593   \n",
              "\n",
              "                                                   Title  \\\n",
              "0      How can I do simple machine learning without h...   \n",
              "1      What open-source books (or other materials) pr...   \n",
              "2                                                   None   \n",
              "3                                                   None   \n",
              "4               Is Data Science the Same as Data Mining?   \n",
              "...                                                  ...   \n",
              "75722  Back Propagation on arbitrary depth network wi...   \n",
              "75723                        Evaluation parameter in knn   \n",
              "75724  Can I use zero-padded input and output layers ...   \n",
              "75725  Why does cross validation and hyperparameter t...   \n",
              "75726                High metrics value (MAE, MSE, RMSE)   \n",
              "\n",
              "                                                    Tags  ...  \\\n",
              "0                                     <machine-learning>  ...   \n",
              "1                               <education><open-source>  ...   \n",
              "2                                                   None  ...   \n",
              "3                                                   None  ...   \n",
              "4                             <data-mining><definitions>  ...   \n",
              "...                                                  ...  ...   \n",
              "75722                  <neural-network><backpropagation>  ...   \n",
              "75723                                 <regression><k-nn>  ...   \n",
              "75724      <deep-learning><convolutional-neural-network>  ...   \n",
              "75725          <cross-validation><hyperparameter-tuning>  ...   \n",
              "75726  <python><pandas><machine-learning-model><linea...  ...   \n",
              "\n",
              "                    ClosedDate  ContentLicense AcceptedAnswerId  \\\n",
              "0      2014-05-14T14:40:25.950    CC BY-SA 3.0              NaN   \n",
              "1      2014-05-14T08:40:54.950    CC BY-SA 3.0             10.0   \n",
              "2                         None    CC BY-SA 3.0              NaN   \n",
              "3                         None    CC BY-SA 3.0              NaN   \n",
              "4                         None    CC BY-SA 3.0             29.0   \n",
              "...                        ...             ...              ...   \n",
              "75722                     None    CC BY-SA 4.0              NaN   \n",
              "75723                     None    CC BY-SA 4.0              NaN   \n",
              "75724                     None    CC BY-SA 4.0              NaN   \n",
              "75725                     None    CC BY-SA 4.0              NaN   \n",
              "75726                     None    CC BY-SA 4.0              NaN   \n",
              "\n",
              "      LastEditorUserId             LastEditDate  ParentId OwnerDisplayName  \\\n",
              "0                  NaN                     None       NaN             None   \n",
              "1                 97.0  2014-05-16T13:45:00.237       NaN             None   \n",
              "2                  NaN                     None       5.0             None   \n",
              "3                  NaN                     None       7.0             None   \n",
              "4                322.0  2014-06-17T16:17:20.473       NaN             None   \n",
              "...                ...                      ...       ...              ...   \n",
              "75722         147597.0  2023-03-04T20:22:12.523       NaN             None   \n",
              "75723              NaN                     None       NaN             None   \n",
              "75724              NaN                     None       NaN             None   \n",
              "75725              NaN                     None       NaN             None   \n",
              "75726              NaN                     None       NaN             None   \n",
              "\n",
              "       CommunityOwnedDate LastEditorDisplayName FavoriteCount  \n",
              "0                    None                  None           NaN  \n",
              "1                    None                  None           NaN  \n",
              "2                    None                  None           NaN  \n",
              "3                    None                  None           NaN  \n",
              "4                    None                  None           NaN  \n",
              "...                   ...                   ...           ...  \n",
              "75722                None                  None           NaN  \n",
              "75723                None                  None           NaN  \n",
              "75724                None                  None           NaN  \n",
              "75725                None                  None           NaN  \n",
              "75726                None                  None           NaN  \n",
              "\n",
              "[75727 rows x 22 columns]"
            ],
            "text/html": [
              "\n",
              "  <div id=\"df-041253e3-da6d-45e5-9c2e-31ea53a893b3\">\n",
              "    <div class=\"colab-df-container\">\n",
              "      <div>\n",
              "<style scoped>\n",
              "    .dataframe tbody tr th:only-of-type {\n",
              "        vertical-align: middle;\n",
              "    }\n",
              "\n",
              "    .dataframe tbody tr th {\n",
              "        vertical-align: top;\n",
              "    }\n",
              "\n",
              "    .dataframe thead th {\n",
              "        text-align: right;\n",
              "    }\n",
              "</style>\n",
              "<table border=\"1\" class=\"dataframe\">\n",
              "  <thead>\n",
              "    <tr style=\"text-align: right;\">\n",
              "      <th></th>\n",
              "      <th>Id</th>\n",
              "      <th>PostTypeId</th>\n",
              "      <th>CreationDate</th>\n",
              "      <th>Score</th>\n",
              "      <th>ViewCount</th>\n",
              "      <th>Body</th>\n",
              "      <th>OwnerUserId</th>\n",
              "      <th>LastActivityDate</th>\n",
              "      <th>Title</th>\n",
              "      <th>Tags</th>\n",
              "      <th>...</th>\n",
              "      <th>ClosedDate</th>\n",
              "      <th>ContentLicense</th>\n",
              "      <th>AcceptedAnswerId</th>\n",
              "      <th>LastEditorUserId</th>\n",
              "      <th>LastEditDate</th>\n",
              "      <th>ParentId</th>\n",
              "      <th>OwnerDisplayName</th>\n",
              "      <th>CommunityOwnedDate</th>\n",
              "      <th>LastEditorDisplayName</th>\n",
              "      <th>FavoriteCount</th>\n",
              "    </tr>\n",
              "  </thead>\n",
              "  <tbody>\n",
              "    <tr>\n",
              "      <th>0</th>\n",
              "      <td>5</td>\n",
              "      <td>1</td>\n",
              "      <td>2014-05-13T23:58:30.457</td>\n",
              "      <td>9</td>\n",
              "      <td>898.0</td>\n",
              "      <td>&lt;p&gt;I've always been interested in machine lear...</td>\n",
              "      <td>5.0</td>\n",
              "      <td>2014-05-14T00:36:31.077</td>\n",
              "      <td>How can I do simple machine learning without h...</td>\n",
              "      <td>&lt;machine-learning&gt;</td>\n",
              "      <td>...</td>\n",
              "      <td>2014-05-14T14:40:25.950</td>\n",
              "      <td>CC BY-SA 3.0</td>\n",
              "      <td>NaN</td>\n",
              "      <td>NaN</td>\n",
              "      <td>None</td>\n",
              "      <td>NaN</td>\n",
              "      <td>None</td>\n",
              "      <td>None</td>\n",
              "      <td>None</td>\n",
              "      <td>NaN</td>\n",
              "    </tr>\n",
              "    <tr>\n",
              "      <th>1</th>\n",
              "      <td>7</td>\n",
              "      <td>1</td>\n",
              "      <td>2014-05-14T00:11:06.457</td>\n",
              "      <td>4</td>\n",
              "      <td>478.0</td>\n",
              "      <td>&lt;p&gt;As a researcher and instructor, I'm looking...</td>\n",
              "      <td>36.0</td>\n",
              "      <td>2014-05-16T13:45:00.237</td>\n",
              "      <td>What open-source books (or other materials) pr...</td>\n",
              "      <td>&lt;education&gt;&lt;open-source&gt;</td>\n",
              "      <td>...</td>\n",
              "      <td>2014-05-14T08:40:54.950</td>\n",
              "      <td>CC BY-SA 3.0</td>\n",
              "      <td>10.0</td>\n",
              "      <td>97.0</td>\n",
              "      <td>2014-05-16T13:45:00.237</td>\n",
              "      <td>NaN</td>\n",
              "      <td>None</td>\n",
              "      <td>None</td>\n",
              "      <td>None</td>\n",
              "      <td>NaN</td>\n",
              "    </tr>\n",
              "    <tr>\n",
              "      <th>2</th>\n",
              "      <td>9</td>\n",
              "      <td>2</td>\n",
              "      <td>2014-05-14T00:36:31.077</td>\n",
              "      <td>5</td>\n",
              "      <td>NaN</td>\n",
              "      <td>&lt;p&gt;Not sure if this fits the scope of this SE,...</td>\n",
              "      <td>51.0</td>\n",
              "      <td>2014-05-14T00:36:31.077</td>\n",
              "      <td>None</td>\n",
              "      <td>None</td>\n",
              "      <td>...</td>\n",
              "      <td>None</td>\n",
              "      <td>CC BY-SA 3.0</td>\n",
              "      <td>NaN</td>\n",
              "      <td>NaN</td>\n",
              "      <td>None</td>\n",
              "      <td>5.0</td>\n",
              "      <td>None</td>\n",
              "      <td>None</td>\n",
              "      <td>None</td>\n",
              "      <td>NaN</td>\n",
              "    </tr>\n",
              "    <tr>\n",
              "      <th>3</th>\n",
              "      <td>10</td>\n",
              "      <td>2</td>\n",
              "      <td>2014-05-14T00:53:43.273</td>\n",
              "      <td>13</td>\n",
              "      <td>NaN</td>\n",
              "      <td>&lt;p&gt;One book that's freely available is \"The El...</td>\n",
              "      <td>22.0</td>\n",
              "      <td>2014-05-14T00:53:43.273</td>\n",
              "      <td>None</td>\n",
              "      <td>None</td>\n",
              "      <td>...</td>\n",
              "      <td>None</td>\n",
              "      <td>CC BY-SA 3.0</td>\n",
              "      <td>NaN</td>\n",
              "      <td>NaN</td>\n",
              "      <td>None</td>\n",
              "      <td>7.0</td>\n",
              "      <td>None</td>\n",
              "      <td>None</td>\n",
              "      <td>None</td>\n",
              "      <td>NaN</td>\n",
              "    </tr>\n",
              "    <tr>\n",
              "      <th>4</th>\n",
              "      <td>14</td>\n",
              "      <td>1</td>\n",
              "      <td>2014-05-14T01:25:59.677</td>\n",
              "      <td>26</td>\n",
              "      <td>1901.0</td>\n",
              "      <td>&lt;p&gt;I am sure data science as will be discussed...</td>\n",
              "      <td>66.0</td>\n",
              "      <td>2020-08-16T13:01:33.543</td>\n",
              "      <td>Is Data Science the Same as Data Mining?</td>\n",
              "      <td>&lt;data-mining&gt;&lt;definitions&gt;</td>\n",
              "      <td>...</td>\n",
              "      <td>None</td>\n",
              "      <td>CC BY-SA 3.0</td>\n",
              "      <td>29.0</td>\n",
              "      <td>322.0</td>\n",
              "      <td>2014-06-17T16:17:20.473</td>\n",
              "      <td>NaN</td>\n",
              "      <td>None</td>\n",
              "      <td>None</td>\n",
              "      <td>None</td>\n",
              "      <td>NaN</td>\n",
              "    </tr>\n",
              "    <tr>\n",
              "      <th>...</th>\n",
              "      <td>...</td>\n",
              "      <td>...</td>\n",
              "      <td>...</td>\n",
              "      <td>...</td>\n",
              "      <td>...</td>\n",
              "      <td>...</td>\n",
              "      <td>...</td>\n",
              "      <td>...</td>\n",
              "      <td>...</td>\n",
              "      <td>...</td>\n",
              "      <td>...</td>\n",
              "      <td>...</td>\n",
              "      <td>...</td>\n",
              "      <td>...</td>\n",
              "      <td>...</td>\n",
              "      <td>...</td>\n",
              "      <td>...</td>\n",
              "      <td>...</td>\n",
              "      <td>...</td>\n",
              "      <td>...</td>\n",
              "      <td>...</td>\n",
              "    </tr>\n",
              "    <tr>\n",
              "      <th>75722</th>\n",
              "      <td>119962</td>\n",
              "      <td>1</td>\n",
              "      <td>2023-03-04T20:06:06.820</td>\n",
              "      <td>0</td>\n",
              "      <td>8.0</td>\n",
              "      <td>&lt;p&gt;I am implementing a neural network of arbit...</td>\n",
              "      <td>147597.0</td>\n",
              "      <td>2023-03-04T20:22:12.523</td>\n",
              "      <td>Back Propagation on arbitrary depth network wi...</td>\n",
              "      <td>&lt;neural-network&gt;&lt;backpropagation&gt;</td>\n",
              "      <td>...</td>\n",
              "      <td>None</td>\n",
              "      <td>CC BY-SA 4.0</td>\n",
              "      <td>NaN</td>\n",
              "      <td>147597.0</td>\n",
              "      <td>2023-03-04T20:22:12.523</td>\n",
              "      <td>NaN</td>\n",
              "      <td>None</td>\n",
              "      <td>None</td>\n",
              "      <td>None</td>\n",
              "      <td>NaN</td>\n",
              "    </tr>\n",
              "    <tr>\n",
              "      <th>75723</th>\n",
              "      <td>119963</td>\n",
              "      <td>1</td>\n",
              "      <td>2023-03-04T20:12:19.677</td>\n",
              "      <td>0</td>\n",
              "      <td>10.0</td>\n",
              "      <td>&lt;p&gt;I am using KNN for a regression task&lt;/p&gt;\\n&lt;...</td>\n",
              "      <td>147598.0</td>\n",
              "      <td>2023-03-04T20:12:19.677</td>\n",
              "      <td>Evaluation parameter in knn</td>\n",
              "      <td>&lt;regression&gt;&lt;k-nn&gt;</td>\n",
              "      <td>...</td>\n",
              "      <td>None</td>\n",
              "      <td>CC BY-SA 4.0</td>\n",
              "      <td>NaN</td>\n",
              "      <td>NaN</td>\n",
              "      <td>None</td>\n",
              "      <td>NaN</td>\n",
              "      <td>None</td>\n",
              "      <td>None</td>\n",
              "      <td>None</td>\n",
              "      <td>NaN</td>\n",
              "    </tr>\n",
              "    <tr>\n",
              "      <th>75724</th>\n",
              "      <td>119964</td>\n",
              "      <td>1</td>\n",
              "      <td>2023-03-05T00:14:12.597</td>\n",
              "      <td>0</td>\n",
              "      <td>7.0</td>\n",
              "      <td>&lt;p&gt;I have developed a small encoding algorithm...</td>\n",
              "      <td>44581.0</td>\n",
              "      <td>2023-03-05T00:14:12.597</td>\n",
              "      <td>Can I use zero-padded input and output layers ...</td>\n",
              "      <td>&lt;deep-learning&gt;&lt;convolutional-neural-network&gt;</td>\n",
              "      <td>...</td>\n",
              "      <td>None</td>\n",
              "      <td>CC BY-SA 4.0</td>\n",
              "      <td>NaN</td>\n",
              "      <td>NaN</td>\n",
              "      <td>None</td>\n",
              "      <td>NaN</td>\n",
              "      <td>None</td>\n",
              "      <td>None</td>\n",
              "      <td>None</td>\n",
              "      <td>NaN</td>\n",
              "    </tr>\n",
              "    <tr>\n",
              "      <th>75725</th>\n",
              "      <td>119965</td>\n",
              "      <td>1</td>\n",
              "      <td>2023-03-05T00:43:12.213</td>\n",
              "      <td>0</td>\n",
              "      <td>5.0</td>\n",
              "      <td>&lt;p&gt;To my understanding, optimizing a model wit...</td>\n",
              "      <td>84437.0</td>\n",
              "      <td>2023-03-05T00:43:12.213</td>\n",
              "      <td>Why does cross validation and hyperparameter t...</td>\n",
              "      <td>&lt;cross-validation&gt;&lt;hyperparameter-tuning&gt;</td>\n",
              "      <td>...</td>\n",
              "      <td>None</td>\n",
              "      <td>CC BY-SA 4.0</td>\n",
              "      <td>NaN</td>\n",
              "      <td>NaN</td>\n",
              "      <td>None</td>\n",
              "      <td>NaN</td>\n",
              "      <td>None</td>\n",
              "      <td>None</td>\n",
              "      <td>None</td>\n",
              "      <td>NaN</td>\n",
              "    </tr>\n",
              "    <tr>\n",
              "      <th>75726</th>\n",
              "      <td>119966</td>\n",
              "      <td>1</td>\n",
              "      <td>2023-03-05T03:10:27.593</td>\n",
              "      <td>0</td>\n",
              "      <td>2.0</td>\n",
              "      <td>&lt;p&gt;I'm working with a dataset of cars, contain...</td>\n",
              "      <td>147605.0</td>\n",
              "      <td>2023-03-05T03:10:27.593</td>\n",
              "      <td>High metrics value (MAE, MSE, RMSE)</td>\n",
              "      <td>&lt;python&gt;&lt;pandas&gt;&lt;machine-learning-model&gt;&lt;linea...</td>\n",
              "      <td>...</td>\n",
              "      <td>None</td>\n",
              "      <td>CC BY-SA 4.0</td>\n",
              "      <td>NaN</td>\n",
              "      <td>NaN</td>\n",
              "      <td>None</td>\n",
              "      <td>NaN</td>\n",
              "      <td>None</td>\n",
              "      <td>None</td>\n",
              "      <td>None</td>\n",
              "      <td>NaN</td>\n",
              "    </tr>\n",
              "  </tbody>\n",
              "</table>\n",
              "<p>75727 rows × 22 columns</p>\n",
              "</div>\n",
              "      <button class=\"colab-df-convert\" onclick=\"convertToInteractive('df-041253e3-da6d-45e5-9c2e-31ea53a893b3')\"\n",
              "              title=\"Convert this dataframe to an interactive table.\"\n",
              "              style=\"display:none;\">\n",
              "        \n",
              "  <svg xmlns=\"http://www.w3.org/2000/svg\" height=\"24px\"viewBox=\"0 0 24 24\"\n",
              "       width=\"24px\">\n",
              "    <path d=\"M0 0h24v24H0V0z\" fill=\"none\"/>\n",
              "    <path d=\"M18.56 5.44l.94 2.06.94-2.06 2.06-.94-2.06-.94-.94-2.06-.94 2.06-2.06.94zm-11 1L8.5 8.5l.94-2.06 2.06-.94-2.06-.94L8.5 2.5l-.94 2.06-2.06.94zm10 10l.94 2.06.94-2.06 2.06-.94-2.06-.94-.94-2.06-.94 2.06-2.06.94z\"/><path d=\"M17.41 7.96l-1.37-1.37c-.4-.4-.92-.59-1.43-.59-.52 0-1.04.2-1.43.59L10.3 9.45l-7.72 7.72c-.78.78-.78 2.05 0 2.83L4 21.41c.39.39.9.59 1.41.59.51 0 1.02-.2 1.41-.59l7.78-7.78 2.81-2.81c.8-.78.8-2.07 0-2.86zM5.41 20L4 18.59l7.72-7.72 1.47 1.35L5.41 20z\"/>\n",
              "  </svg>\n",
              "      </button>\n",
              "      \n",
              "  <style>\n",
              "    .colab-df-container {\n",
              "      display:flex;\n",
              "      flex-wrap:wrap;\n",
              "      gap: 12px;\n",
              "    }\n",
              "\n",
              "    .colab-df-convert {\n",
              "      background-color: #E8F0FE;\n",
              "      border: none;\n",
              "      border-radius: 50%;\n",
              "      cursor: pointer;\n",
              "      display: none;\n",
              "      fill: #1967D2;\n",
              "      height: 32px;\n",
              "      padding: 0 0 0 0;\n",
              "      width: 32px;\n",
              "    }\n",
              "\n",
              "    .colab-df-convert:hover {\n",
              "      background-color: #E2EBFA;\n",
              "      box-shadow: 0px 1px 2px rgba(60, 64, 67, 0.3), 0px 1px 3px 1px rgba(60, 64, 67, 0.15);\n",
              "      fill: #174EA6;\n",
              "    }\n",
              "\n",
              "    [theme=dark] .colab-df-convert {\n",
              "      background-color: #3B4455;\n",
              "      fill: #D2E3FC;\n",
              "    }\n",
              "\n",
              "    [theme=dark] .colab-df-convert:hover {\n",
              "      background-color: #434B5C;\n",
              "      box-shadow: 0px 1px 3px 1px rgba(0, 0, 0, 0.15);\n",
              "      filter: drop-shadow(0px 1px 2px rgba(0, 0, 0, 0.3));\n",
              "      fill: #FFFFFF;\n",
              "    }\n",
              "  </style>\n",
              "\n",
              "      <script>\n",
              "        const buttonEl =\n",
              "          document.querySelector('#df-041253e3-da6d-45e5-9c2e-31ea53a893b3 button.colab-df-convert');\n",
              "        buttonEl.style.display =\n",
              "          google.colab.kernel.accessAllowed ? 'block' : 'none';\n",
              "\n",
              "        async function convertToInteractive(key) {\n",
              "          const element = document.querySelector('#df-041253e3-da6d-45e5-9c2e-31ea53a893b3');\n",
              "          const dataTable =\n",
              "            await google.colab.kernel.invokeFunction('convertToInteractive',\n",
              "                                                     [key], {});\n",
              "          if (!dataTable) return;\n",
              "\n",
              "          const docLinkHtml = 'Like what you see? Visit the ' +\n",
              "            '<a target=\"_blank\" href=https://colab.research.google.com/notebooks/data_table.ipynb>data table notebook</a>'\n",
              "            + ' to learn more about interactive tables.';\n",
              "          element.innerHTML = '';\n",
              "          dataTable['output_type'] = 'display_data';\n",
              "          await google.colab.output.renderOutput(dataTable, element);\n",
              "          const docLink = document.createElement('div');\n",
              "          docLink.innerHTML = docLinkHtml;\n",
              "          element.appendChild(docLink);\n",
              "        }\n",
              "      </script>\n",
              "    </div>\n",
              "  </div>\n",
              "  "
            ]
          },
          "metadata": {},
          "execution_count": 7
        }
      ]
    },
    {
      "cell_type": "markdown",
      "source": [
        "## Data Cleaning"
      ],
      "metadata": {
        "id": "2q_ryLonxLYe"
      }
    },
    {
      "cell_type": "markdown",
      "source": [
        "Implement a function to clean the posts. \n",
        "\n",
        "You can reuse what you have used in the Day 2 notebook or improve it."
      ],
      "metadata": {
        "id": "cnOIzOY4e5Xh"
      }
    },
    {
      "cell_type": "code",
      "source": [
        "def clean_post(text:str)->str:\n",
        "  res=\"\"\n",
        "  in_tag=False\n",
        "  next=False\n",
        "  for lettre in text:\n",
        "    if lettre=='<' and not in_tag:\n",
        "      in_tag=True\n",
        "    elif lettre=='>' and in_tag:\n",
        "      in_tag=False\n",
        "    elif lettre=='\\n' or lettre=='\\t':\n",
        "      next=True\n",
        "    elif not in_tag:\n",
        "      if next:\n",
        "        res+=\" \" + str(lettre)\n",
        "        next=False\n",
        "      else:\n",
        "        res+=str(lettre)\n",
        "  return res"
      ],
      "metadata": {
        "id": "9e-XxHMAkmEu"
      },
      "execution_count": 8,
      "outputs": []
    },
    {
      "cell_type": "code",
      "source": [
        "clean_posts = posts[['Id','Body']]\n",
        "clean_posts['Clean Body'] = clean_posts['Body'].fillna('').apply(clean_post)\n",
        "clean_posts"
      ],
      "metadata": {
        "id": "Yv_n2e5Y1a04",
        "outputId": "4cb16ad6-0ebc-4f99-e5a5-28bbdf0561dd",
        "colab": {
          "base_uri": "https://localhost:8080/",
          "height": 532
        }
      },
      "execution_count": 11,
      "outputs": [
        {
          "output_type": "stream",
          "name": "stderr",
          "text": [
            "<ipython-input-11-f2d19e1d3215>:2: SettingWithCopyWarning: \n",
            "A value is trying to be set on a copy of a slice from a DataFrame.\n",
            "Try using .loc[row_indexer,col_indexer] = value instead\n",
            "\n",
            "See the caveats in the documentation: https://pandas.pydata.org/pandas-docs/stable/user_guide/indexing.html#returning-a-view-versus-a-copy\n",
            "  clean_posts['Clean Body'] = clean_posts['Body'].fillna('').apply(clean_post)\n"
          ]
        },
        {
          "output_type": "execute_result",
          "data": {
            "text/plain": [
              "           Id                                               Body  \\\n",
              "0           5  <p>I've always been interested in machine lear...   \n",
              "1           7  <p>As a researcher and instructor, I'm looking...   \n",
              "2           9  <p>Not sure if this fits the scope of this SE,...   \n",
              "3          10  <p>One book that's freely available is \"The El...   \n",
              "4          14  <p>I am sure data science as will be discussed...   \n",
              "...       ...                                                ...   \n",
              "75722  119962  <p>I am implementing a neural network of arbit...   \n",
              "75723  119963  <p>I am using KNN for a regression task</p>\\n<...   \n",
              "75724  119964  <p>I have developed a small encoding algorithm...   \n",
              "75725  119965  <p>To my understanding, optimizing a model wit...   \n",
              "75726  119966  <p>I'm working with a dataset of cars, contain...   \n",
              "\n",
              "                                              Clean Body  \n",
              "0      I've always been interested in machine learnin...  \n",
              "1      As a researcher and instructor, I'm looking fo...  \n",
              "2      Not sure if this fits the scope of this SE, bu...  \n",
              "3      One book that's freely available is \"The Eleme...  \n",
              "4      I am sure data science as will be discussed in...  \n",
              "...                                                  ...  \n",
              "75722  I am implementing a neural network of arbitrar...  \n",
              "75723  I am using KNN for a regression task It's like...  \n",
              "75724  I have developed a small encoding algorithm th...  \n",
              "75725  To my understanding, optimizing a model with k...  \n",
              "75726  I'm working with a dataset of cars, containing...  \n",
              "\n",
              "[75727 rows x 3 columns]"
            ],
            "text/html": [
              "\n",
              "  <div id=\"df-c3996363-50bc-4cb7-b102-019a2bc5b8b6\">\n",
              "    <div class=\"colab-df-container\">\n",
              "      <div>\n",
              "<style scoped>\n",
              "    .dataframe tbody tr th:only-of-type {\n",
              "        vertical-align: middle;\n",
              "    }\n",
              "\n",
              "    .dataframe tbody tr th {\n",
              "        vertical-align: top;\n",
              "    }\n",
              "\n",
              "    .dataframe thead th {\n",
              "        text-align: right;\n",
              "    }\n",
              "</style>\n",
              "<table border=\"1\" class=\"dataframe\">\n",
              "  <thead>\n",
              "    <tr style=\"text-align: right;\">\n",
              "      <th></th>\n",
              "      <th>Id</th>\n",
              "      <th>Body</th>\n",
              "      <th>Clean Body</th>\n",
              "    </tr>\n",
              "  </thead>\n",
              "  <tbody>\n",
              "    <tr>\n",
              "      <th>0</th>\n",
              "      <td>5</td>\n",
              "      <td>&lt;p&gt;I've always been interested in machine lear...</td>\n",
              "      <td>I've always been interested in machine learnin...</td>\n",
              "    </tr>\n",
              "    <tr>\n",
              "      <th>1</th>\n",
              "      <td>7</td>\n",
              "      <td>&lt;p&gt;As a researcher and instructor, I'm looking...</td>\n",
              "      <td>As a researcher and instructor, I'm looking fo...</td>\n",
              "    </tr>\n",
              "    <tr>\n",
              "      <th>2</th>\n",
              "      <td>9</td>\n",
              "      <td>&lt;p&gt;Not sure if this fits the scope of this SE,...</td>\n",
              "      <td>Not sure if this fits the scope of this SE, bu...</td>\n",
              "    </tr>\n",
              "    <tr>\n",
              "      <th>3</th>\n",
              "      <td>10</td>\n",
              "      <td>&lt;p&gt;One book that's freely available is \"The El...</td>\n",
              "      <td>One book that's freely available is \"The Eleme...</td>\n",
              "    </tr>\n",
              "    <tr>\n",
              "      <th>4</th>\n",
              "      <td>14</td>\n",
              "      <td>&lt;p&gt;I am sure data science as will be discussed...</td>\n",
              "      <td>I am sure data science as will be discussed in...</td>\n",
              "    </tr>\n",
              "    <tr>\n",
              "      <th>...</th>\n",
              "      <td>...</td>\n",
              "      <td>...</td>\n",
              "      <td>...</td>\n",
              "    </tr>\n",
              "    <tr>\n",
              "      <th>75722</th>\n",
              "      <td>119962</td>\n",
              "      <td>&lt;p&gt;I am implementing a neural network of arbit...</td>\n",
              "      <td>I am implementing a neural network of arbitrar...</td>\n",
              "    </tr>\n",
              "    <tr>\n",
              "      <th>75723</th>\n",
              "      <td>119963</td>\n",
              "      <td>&lt;p&gt;I am using KNN for a regression task&lt;/p&gt;\\n&lt;...</td>\n",
              "      <td>I am using KNN for a regression task It's like...</td>\n",
              "    </tr>\n",
              "    <tr>\n",
              "      <th>75724</th>\n",
              "      <td>119964</td>\n",
              "      <td>&lt;p&gt;I have developed a small encoding algorithm...</td>\n",
              "      <td>I have developed a small encoding algorithm th...</td>\n",
              "    </tr>\n",
              "    <tr>\n",
              "      <th>75725</th>\n",
              "      <td>119965</td>\n",
              "      <td>&lt;p&gt;To my understanding, optimizing a model wit...</td>\n",
              "      <td>To my understanding, optimizing a model with k...</td>\n",
              "    </tr>\n",
              "    <tr>\n",
              "      <th>75726</th>\n",
              "      <td>119966</td>\n",
              "      <td>&lt;p&gt;I'm working with a dataset of cars, contain...</td>\n",
              "      <td>I'm working with a dataset of cars, containing...</td>\n",
              "    </tr>\n",
              "  </tbody>\n",
              "</table>\n",
              "<p>75727 rows × 3 columns</p>\n",
              "</div>\n",
              "      <button class=\"colab-df-convert\" onclick=\"convertToInteractive('df-c3996363-50bc-4cb7-b102-019a2bc5b8b6')\"\n",
              "              title=\"Convert this dataframe to an interactive table.\"\n",
              "              style=\"display:none;\">\n",
              "        \n",
              "  <svg xmlns=\"http://www.w3.org/2000/svg\" height=\"24px\"viewBox=\"0 0 24 24\"\n",
              "       width=\"24px\">\n",
              "    <path d=\"M0 0h24v24H0V0z\" fill=\"none\"/>\n",
              "    <path d=\"M18.56 5.44l.94 2.06.94-2.06 2.06-.94-2.06-.94-.94-2.06-.94 2.06-2.06.94zm-11 1L8.5 8.5l.94-2.06 2.06-.94-2.06-.94L8.5 2.5l-.94 2.06-2.06.94zm10 10l.94 2.06.94-2.06 2.06-.94-2.06-.94-.94-2.06-.94 2.06-2.06.94z\"/><path d=\"M17.41 7.96l-1.37-1.37c-.4-.4-.92-.59-1.43-.59-.52 0-1.04.2-1.43.59L10.3 9.45l-7.72 7.72c-.78.78-.78 2.05 0 2.83L4 21.41c.39.39.9.59 1.41.59.51 0 1.02-.2 1.41-.59l7.78-7.78 2.81-2.81c.8-.78.8-2.07 0-2.86zM5.41 20L4 18.59l7.72-7.72 1.47 1.35L5.41 20z\"/>\n",
              "  </svg>\n",
              "      </button>\n",
              "      \n",
              "  <style>\n",
              "    .colab-df-container {\n",
              "      display:flex;\n",
              "      flex-wrap:wrap;\n",
              "      gap: 12px;\n",
              "    }\n",
              "\n",
              "    .colab-df-convert {\n",
              "      background-color: #E8F0FE;\n",
              "      border: none;\n",
              "      border-radius: 50%;\n",
              "      cursor: pointer;\n",
              "      display: none;\n",
              "      fill: #1967D2;\n",
              "      height: 32px;\n",
              "      padding: 0 0 0 0;\n",
              "      width: 32px;\n",
              "    }\n",
              "\n",
              "    .colab-df-convert:hover {\n",
              "      background-color: #E2EBFA;\n",
              "      box-shadow: 0px 1px 2px rgba(60, 64, 67, 0.3), 0px 1px 3px 1px rgba(60, 64, 67, 0.15);\n",
              "      fill: #174EA6;\n",
              "    }\n",
              "\n",
              "    [theme=dark] .colab-df-convert {\n",
              "      background-color: #3B4455;\n",
              "      fill: #D2E3FC;\n",
              "    }\n",
              "\n",
              "    [theme=dark] .colab-df-convert:hover {\n",
              "      background-color: #434B5C;\n",
              "      box-shadow: 0px 1px 3px 1px rgba(0, 0, 0, 0.15);\n",
              "      filter: drop-shadow(0px 1px 2px rgba(0, 0, 0, 0.3));\n",
              "      fill: #FFFFFF;\n",
              "    }\n",
              "  </style>\n",
              "\n",
              "      <script>\n",
              "        const buttonEl =\n",
              "          document.querySelector('#df-c3996363-50bc-4cb7-b102-019a2bc5b8b6 button.colab-df-convert');\n",
              "        buttonEl.style.display =\n",
              "          google.colab.kernel.accessAllowed ? 'block' : 'none';\n",
              "\n",
              "        async function convertToInteractive(key) {\n",
              "          const element = document.querySelector('#df-c3996363-50bc-4cb7-b102-019a2bc5b8b6');\n",
              "          const dataTable =\n",
              "            await google.colab.kernel.invokeFunction('convertToInteractive',\n",
              "                                                     [key], {});\n",
              "          if (!dataTable) return;\n",
              "\n",
              "          const docLinkHtml = 'Like what you see? Visit the ' +\n",
              "            '<a target=\"_blank\" href=https://colab.research.google.com/notebooks/data_table.ipynb>data table notebook</a>'\n",
              "            + ' to learn more about interactive tables.';\n",
              "          element.innerHTML = '';\n",
              "          dataTable['output_type'] = 'display_data';\n",
              "          await google.colab.output.renderOutput(dataTable, element);\n",
              "          const docLink = document.createElement('div');\n",
              "          docLink.innerHTML = docLinkHtml;\n",
              "          element.appendChild(docLink);\n",
              "        }\n",
              "      </script>\n",
              "    </div>\n",
              "  </div>\n",
              "  "
            ]
          },
          "metadata": {},
          "execution_count": 11
        }
      ]
    },
    {
      "cell_type": "markdown",
      "source": [
        "You can also implement a function that cleans the user's query (the query). \n",
        "\n",
        "This step is optionnal (if you don't think that it is necessary, just return the query)"
      ],
      "metadata": {
        "id": "9vYfAFcDe_ER"
      }
    },
    {
      "cell_type": "code",
      "source": [
        "def clean_query(text:str)->str:\n",
        "    cleaned_query = clean_post(text)\n",
        "    return cleaned_query"
      ],
      "metadata": {
        "id": "Q8_gvmjXwBwt"
      },
      "execution_count": 29,
      "outputs": []
    },
    {
      "cell_type": "markdown",
      "source": [
        "## Text specific metadata"
      ],
      "metadata": {
        "id": "BnjdSpeLlZzJ"
      }
    },
    {
      "cell_type": "markdown",
      "source": [
        "What metadata can you get from the text at your disposal ? Which ones are relevant ? "
      ],
      "metadata": {
        "id": "qEyQEpoaoGLY"
      }
    },
    {
      "cell_type": "code",
      "source": [
        "#TODO\n",
        "posts.keys()"
      ],
      "metadata": {
        "id": "5b_O0YS-oMAh",
        "outputId": "4bd1a22e-563d-4e0a-c0c9-baea237ca179",
        "colab": {
          "base_uri": "https://localhost:8080/"
        }
      },
      "execution_count": 14,
      "outputs": [
        {
          "output_type": "execute_result",
          "data": {
            "text/plain": [
              "Index(['Id', 'PostTypeId', 'CreationDate', 'Score', 'ViewCount', 'Body',\n",
              "       'OwnerUserId', 'LastActivityDate', 'Title', 'Tags', 'AnswerCount',\n",
              "       'CommentCount', 'ClosedDate', 'ContentLicense', 'AcceptedAnswerId',\n",
              "       'LastEditorUserId', 'LastEditDate', 'ParentId', 'OwnerDisplayName',\n",
              "       'CommunityOwnedDate', 'LastEditorDisplayName', 'FavoriteCount'],\n",
              "      dtype='object')"
            ]
          },
          "metadata": {},
          "execution_count": 14
        }
      ]
    },
    {
      "cell_type": "markdown",
      "source": [
        "## Classic Preprocessing"
      ],
      "metadata": {
        "id": "o0rsRxD4xeli"
      }
    },
    {
      "cell_type": "markdown",
      "source": [
        "The goal for this part is to implement a classic vectorization (Count vectorizer, tfidf...).\n",
        "\n",
        "You can do it on your own or use scikit-learn.\n",
        "\n",
        "Hints : pay attention to stopwords, additionnal preprocessing steps and techniques of vectoriation\n"
      ],
      "metadata": {
        "id": "NLmg2T3qxjc3"
      }
    },
    {
      "cell_type": "code",
      "source": [
        "vectorizer = CountVectorizer(stop_words='english')\n",
        "vectorizer.fit(clean_posts[\"Clean Body\"].values)\n",
        "vectors = vectorizer.transform(clean_posts[\"Clean Body\"].values)"
      ],
      "metadata": {
        "id": "VTaWk2nAAiTj"
      },
      "execution_count": 59,
      "outputs": []
    },
    {
      "cell_type": "markdown",
      "source": [
        "Write a function that applies the same process to the query\n"
      ],
      "metadata": {
        "id": "drg1x_9v1RD6"
      }
    },
    {
      "cell_type": "code",
      "source": [
        "def vectorize_query(query : str, vectorizer=vectorizer):\n",
        "    \"\"\"vectorizes the query\n",
        "    Args:\n",
        "        query (str): query string\n",
        "        vectorizer (optional): Defaults to vectorizer.\n",
        "\n",
        "    Returns:\n",
        "        query vectorized\n",
        "    \"\"\"\n",
        "    query_clean=clean_query(query)\n",
        "    query_vectorized=vectorizer.transform([query_clean])\n",
        "    return query_vectorized"
      ],
      "metadata": {
        "id": "RpBr0mfF1QVr"
      },
      "execution_count": 60,
      "outputs": []
    },
    {
      "cell_type": "code",
      "source": [
        "from sklearn.metrics.pairwise import cosine_similarity\n",
        "\n",
        "cosine_similarity(vectors, vectorize_query(\"Test de merde\"))"
      ],
      "metadata": {
        "id": "LWj_7Z-bycfE",
        "outputId": "8812640d-f7e6-4da0-e2ae-eae6cd5f4bb8",
        "colab": {
          "base_uri": "https://localhost:8080/"
        }
      },
      "execution_count": 64,
      "outputs": [
        {
          "output_type": "execute_result",
          "data": {
            "text/plain": [
              "array([[0.       ],\n",
              "       [0.       ],\n",
              "       [0.       ],\n",
              "       ...,\n",
              "       [0.       ],\n",
              "       [0.1774713],\n",
              "       [0.       ]])"
            ]
          },
          "metadata": {},
          "execution_count": 64
        }
      ]
    },
    {
      "cell_type": "markdown",
      "source": [
        "Determine a way to use this vectorization to suggest the closest items to the entry in the database"
      ],
      "metadata": {
        "id": "ZO5uBYas15HS"
      }
    },
    {
      "cell_type": "code",
      "source": [
        "from sklearn.metrics.pairwise import cosine_similarity\n",
        "\n",
        "def vectorizer_search(query : str,\n",
        "                      vectors=vectors,\n",
        "                      vectorizer=vectorizer,\n",
        "                      top=10) -> list:\n",
        "    query_vector=vectorize_query(query)\n",
        "    values=cosine_similarity(vectors, query_vector)\n",
        "    values=[[values[k][0],k] for k in range(len(values))]\n",
        "    values.sort(reverse=True)\n",
        "    closest_items = [clean_posts[\"Clean Body\"][x[1]] for x in values[:top]]\n",
        "    return closest_items"
      ],
      "metadata": {
        "id": "X2JhLiCU1NPu"
      },
      "execution_count": 90,
      "outputs": []
    },
    {
      "cell_type": "code",
      "source": [
        "entry = 'what is stochastic gradient descent ?'"
      ],
      "metadata": {
        "id": "FHVHzd-G3Sd0"
      },
      "execution_count": 84,
      "outputs": []
    },
    {
      "cell_type": "code",
      "source": [
        " vectorizer_search(entry, top=1)[0]"
      ],
      "metadata": {
        "id": "Ir0QIX-XGE-N",
        "outputId": "3cafae0e-e345-4f2e-ef26-6c0ff318b4c6",
        "colab": {
          "base_uri": "https://localhost:8080/",
          "height": 126
        }
      },
      "execution_count": 91,
      "outputs": [
        {
          "output_type": "execute_result",
          "data": {
            "text/plain": [
              "'As I know, Gradient Descent has three variants which are: 1- Batch Gradient Descent: processes all the training examples for each iteration of gradient descent. 2- Stochastic Gradient Descent: processes one training example per iteration. Hence, the parameters are being updated even after one iteration in which only a single example has been processed. 3- Mini Batch gradient descent: which works faster than both batch gradient descent and stochastic gradient descent. Here, b examples where b &lt; m are processed per iteration. But in some cases they use Stochastic Gradient Descent and they define a batch size for training which is what I am confused about. Also, what about Adam, AdaDelta &amp; AdaGrad, are they all mini-batch gradient descent or not?'"
            ],
            "application/vnd.google.colaboratory.intrinsic+json": {
              "type": "string"
            }
          },
          "metadata": {},
          "execution_count": 91
        }
      ]
    },
    {
      "cell_type": "markdown",
      "source": [
        "How you can improve this approach ? "
      ],
      "metadata": {
        "id": "3AcnQSRd7XJz"
      }
    },
    {
      "cell_type": "markdown",
      "source": [
        "*Answer* here"
      ],
      "metadata": {
        "id": "Fi4Y1vsqB_Sw"
      }
    },
    {
      "cell_type": "markdown",
      "source": [
        "On pourrait mettre en place un calcul de rareté des termespour mettre en avant les similarités sur les mots rares. Cela pourrait se faire par l'ajout de poids."
      ],
      "metadata": {
        "id": "eV8KVGyl29rq"
      }
    },
    {
      "cell_type": "markdown",
      "source": [
        "## Semantic similarity"
      ],
      "metadata": {
        "id": "hWNZJR6qYwcT"
      }
    },
    {
      "cell_type": "markdown",
      "source": [
        "There are NLP methods that go further than word-by-word study, by taking into account the context of the terms. There are several methods: Word2vec, Bert.\n",
        "\n",
        "From the Sentence Transformers documentation: https://www.sbert.net/docs/pretrained_models.html choose the pre-trained model that you think is the most appropriate. Justify your choice."
      ],
      "metadata": {
        "id": "6hbMp61saeBm"
      }
    },
    {
      "cell_type": "code",
      "source": [
        "sentence_transformer_model = ''"
      ],
      "metadata": {
        "id": "gOLIblKWCSQ1"
      },
      "execution_count": null,
      "outputs": []
    },
    {
      "cell_type": "markdown",
      "source": [
        "Answer Here"
      ],
      "metadata": {
        "id": "8O6QZfgPCKMk"
      }
    },
    {
      "cell_type": "markdown",
      "source": [
        "⚠ To use Sentence Transformers it is recommended to activate the GPU of google colab."
      ],
      "metadata": {
        "id": "6r2keNXSeQ1J"
      }
    },
    {
      "cell_type": "code",
      "source": [
        "MODEL_ST = SentenceTransformer(sentence_transformer_model)"
      ],
      "metadata": {
        "colab": {
          "base_uri": "https://localhost:8080/",
          "height": 465,
          "referenced_widgets": [
            "02cbfb1363ca47c3a7cc2999def08213",
            "4bb730174d4c4bbba4541378c4930b9a",
            "fd00d13717a2408d80a03cec7763b295",
            "daf36293a2a14b7f813cb5b5d647e418",
            "e6f675dc25a24500828fb93d771094d7",
            "82f969816ad447da859a3e6783eb91ad",
            "930f1f1678a24ae99b1ddf2e7f20fbb7",
            "ca8f9ce32124466c89bccc4565400592",
            "d557ff364a614615b0e699f6aec4c566",
            "1395a88926674243bcdedfb7d7275cc0",
            "8eb72fa3f46c42139fbc64a1aa08de33",
            "c31e7058036f4a5ab22a274c8ce1a6d1",
            "03232d89579f48a1a5e136585c9fde00",
            "d25d0d63d7e5478bac5f9dac00c1461e",
            "dda5d5c2dbf449e7963326f640853177",
            "9e71b3c469f046038afc7b2f7e3382ba",
            "abd43201cd1c4f7db45ddd229e6b14d7",
            "12bc320bc3af4f06a936c9a6265d377f",
            "4b3b5be0dc5c445b9a3050a1265d2b8b",
            "bf39cbc5495e4078a9ccbaa89ad89334",
            "20544ec0905344e9b2ade3b158e555b4",
            "9858c722a79f447f8c36a6e123531dc0",
            "7bafbc4f65d34c47bc032036ecad79be",
            "9f9e6718289f4b009e5cb4f36ca7bafb",
            "116a657b635243f1ba36a7972c7e8c7e",
            "f229cd2f2ccb429d8eff17791ae35e17",
            "b11de02b306d44e5a260b2d877473f5f",
            "b326af1bb0914bcd952c9dff5abe5d42",
            "579078e1423c48a681adc82059d847f8",
            "bb3564416a644d59a32b8d736f7e04a9",
            "2914a856431c4bf283304e29e9b01ed5",
            "620f8475e644452b87015d8eec37ebb0",
            "5e03079e6aa040c996a4bd2068b6c649",
            "9d92c18a3e06442db95bdb369c052f05",
            "d96e543eb74f48c6a5a5196505b60628",
            "8bee8bb002874630b335d8e0a8b801fe",
            "df4d9fb802124a6f9b9614eb3673bcf7",
            "4d9101a4b6024a39a8507ff585af1259",
            "8780b3fc6e7243f1a63c7c94fbdd8053",
            "d85ece8d99bb49139a70e016a06f97f1",
            "20281614a52b4fa7a93cddd31092adc5",
            "6ace7e1eaf8b451499dc60cbcc78d22e",
            "1daef32e6b51422eb47f135fdc8150f7",
            "799707ac4d0540a7ac88c80d95cc50fa",
            "a91b586064e740feb8eeb27c02590ccf",
            "a04d6415638344878fe8246ea326ffb0",
            "a1ed9c74fac441c9ace0aea654b3ae17",
            "f7d276d2f26041509e568c41e0f30420",
            "756d548f4c64446eb41d891c99b71c75",
            "3ad60474bdfc4b8fac306b1266371e9a",
            "ab54cc66da5f492a9830ca25f5f5acc7",
            "021c85fabd9047a493eb838440a46430",
            "73706f650c7e4ecd923fd51f5e1a714e",
            "890caa151ead4c24a8ef52684b4d1936",
            "66212781471e4992aa8ad74d52cd6884",
            "ee4622ffc57b421d8ab54a678bf524c3",
            "34adba70a0ec49e2ab2c678bff13f7a3",
            "f9b5207a40ee43bfaac71a93ef3fbde8",
            "e2cb4079b5e5401799fd1a63b4ffa04a",
            "d7d995cd240f4986b80abfe88b3274d6",
            "aae788b1c20645138d1d2d40d238a8aa",
            "4aca7ebf6cca4e08ad5becd75fbb9998",
            "89fb3553f50b457eb0894ed332e23f92",
            "10c179a861ab4e97b3d12c5dae4e1cb4",
            "f76299c226814ecb889be4fff0a0a028",
            "df42d059791b419cab83b20391557492",
            "7aa7c814c69e4f30ab54c7fed798031f",
            "c4adea87965f4f5ebb14058c6a94923f",
            "61f154962b844c809845f92091a16bf6",
            "0e23fa3ddec14f5699ede7e0dd685918",
            "ed9ae88080e14fc7a91af2cf8fba6a99",
            "edc62f56743a4b559e319134e994cbe8",
            "91b1d43e7b0f41729b62518b771239d8",
            "91926dcd6b9547b39d159e1169034f1c",
            "75c8821cea98493ab7aebeb5623131d6",
            "4463494d599648538e82ec1f0e908373",
            "a718f09041474a56a5ee86153f4f3bf3",
            "2ab01b6399ef40fba0e62527ccfe2b0c",
            "6558d1e3fd4b4cf291d83f5c3361caee",
            "0d1614f5f28b4673a99fc636195b44a6",
            "0613301aee514059be98d14668f1c5f1",
            "ce1d4f6b299344f5abed0651673ddf4a",
            "ac706715d0bb43e1b7c4723c9e5e4430",
            "b8ae662ba8cb468e9d51583ebec724b5",
            "a3f3dad3d24249269a74ba5f926c5dad",
            "1d400d2d61e94178ba7a10ecf88e8122",
            "464ab9096f6d4a3cb22c798aecaf389a",
            "3334558c60c34242aa337416918e5a61",
            "000421c2dae04292b304b5821cb1da18",
            "5d6ca948e1fb45c7874cfecd67baf42b",
            "8cfa043308094af1964a815860d4e6a9",
            "4480b9f250af492ca3855daa3a71a754",
            "1c98baf7eac4438d8e9a156b09c61e3d",
            "98c895752ff94e1ab0b9a5a650a55bd8",
            "9032c75a1b354ce8bda731535f6153d8",
            "99800bb0b202471081130fdd1ff908f5",
            "d6a7aada7e484e65a0027ff39fb0d160",
            "db1811b4dd6f449b8c4262382714405b",
            "b87e07ba46dd42e9966209ea70d0a056",
            "43fea82a481b4ecbb1ff5f230e8cc892",
            "8dc77074483f4aef97e47e6a04825cc5",
            "903f969ae3284dba85cec6e0c02f63c2",
            "7618bac4a10d4e73a3e584ad3d4709e8",
            "911c9cceca994aafa1807946894e15a1",
            "e4309448f07c458988dfec0059dbb060",
            "f87cdb0434dd4015bd0247cd8f76c44b",
            "d84f51b720b94d68ba6e217de01862a2",
            "30b2d058d9cd4fbf9a21a5a59e49a5d0",
            "45aeb8a8844f4bc4969f6658ee46eedf",
            "06e9b832566245e4aaab7267a966b303",
            "9ae513e627704134ad081e1dea561753",
            "b6d07ce384e74789869a47985a43f59e",
            "891bd71b9c654ac185c2d2642f40cfce",
            "6772b814e22f48c0935c78c4e0473bce",
            "8f9dc7eb45004f10b897bc97c808d0ce",
            "724890f8bb7248bf8b657c5cf9474d8a",
            "fccb0f67b73f4545a898bef4595e8c28",
            "3d6eb5d04dbb4601ac4dfdeb020fed99",
            "94d7d2d5cd194dc78ff9e39d3d3805f6",
            "ceb2ab98fa9d46189cef411c7078ffcf",
            "a298370ee5ab4396966d1ad4ab4f3fb8",
            "1d277ba2fc9a4223a7b1f5b5ad9a810c",
            "aaf6f82410c3424286f243d7c23086a2",
            "e46fea149dad4c638cc5059498a5e72b",
            "e0ada647f63a46c5b233a56a7531b6d8",
            "1e32c7f8c2594c95bb71a750ee4e9d54",
            "ff3788b121ca499fb214d9c281215798",
            "cf9800f0b7af4cafa11862cfbae61bdf",
            "e5a4b46cf4324b4a9d6b7c0e3a43d5cc",
            "13e9c182313340bfa06aba7b26450dfe",
            "d2bcf14afe9e49d786143eb6f426d391",
            "e5b40b520c194eb3ac4e210054acfaac",
            "fafef24076c748fbb90b5493742fe60f",
            "531e17804a964eed8cbf0026be12a6a1",
            "e934ec0c85a941dba7bc9639e9954d63",
            "214b5c6307c24bc9b48f5af649381866",
            "0036236066614fa4a3e41edb26fd145e",
            "26b7262aa5b54d3db86a5e98f4cb42de",
            "8107de17103f43c3bdb363ae5e8c0345",
            "62bd6da8a62c40129d2df54709717982",
            "8d45f5c29b6a454085d8c0993ab4920d",
            "a553b7100609441c812b6da9f0dfaea6",
            "b3d38e70255846a7b9dc25e092a89322",
            "143eb44c074f4037a4eeb61be9d52517",
            "7c9ecabc3db3498ba32fe820ce34ca8a",
            "7cc1d25c4d1c4365a73eca3584959c67",
            "3ebc5279727b4f578dd55bd34e5b7f47",
            "9b69e77883e14a18935a48b1c1d62275",
            "2867eb3ec54949fca3b840e3f8c1b191",
            "446d5dfb2a3f43b196dad2104f859102",
            "678fa128e70745509675063c2bbe37a6",
            "47f6af648231461e8bea7026342f7269",
            "2cb298973e6244db94a4e66e1065eda5",
            "089846d096e0463fa15075a1a341d378"
          ]
        },
        "id": "dCTzpEkkeQAO",
        "outputId": "6c8ec330-3745-41fa-c3fe-bf327ac6f405"
      },
      "execution_count": null,
      "outputs": [
        {
          "output_type": "display_data",
          "data": {
            "text/plain": [
              "Downloading (…)a8e1d/.gitattributes:   0%|          | 0.00/1.18k [00:00<?, ?B/s]"
            ],
            "application/vnd.jupyter.widget-view+json": {
              "version_major": 2,
              "version_minor": 0,
              "model_id": "02cbfb1363ca47c3a7cc2999def08213"
            }
          },
          "metadata": {}
        },
        {
          "output_type": "display_data",
          "data": {
            "text/plain": [
              "Downloading (…)_Pooling/config.json:   0%|          | 0.00/190 [00:00<?, ?B/s]"
            ],
            "application/vnd.jupyter.widget-view+json": {
              "version_major": 2,
              "version_minor": 0,
              "model_id": "c31e7058036f4a5ab22a274c8ce1a6d1"
            }
          },
          "metadata": {}
        },
        {
          "output_type": "display_data",
          "data": {
            "text/plain": [
              "Downloading (…)b20bca8e1d/README.md:   0%|          | 0.00/10.6k [00:00<?, ?B/s]"
            ],
            "application/vnd.jupyter.widget-view+json": {
              "version_major": 2,
              "version_minor": 0,
              "model_id": "7bafbc4f65d34c47bc032036ecad79be"
            }
          },
          "metadata": {}
        },
        {
          "output_type": "display_data",
          "data": {
            "text/plain": [
              "Downloading (…)0bca8e1d/config.json:   0%|          | 0.00/571 [00:00<?, ?B/s]"
            ],
            "application/vnd.jupyter.widget-view+json": {
              "version_major": 2,
              "version_minor": 0,
              "model_id": "9d92c18a3e06442db95bdb369c052f05"
            }
          },
          "metadata": {}
        },
        {
          "output_type": "display_data",
          "data": {
            "text/plain": [
              "Downloading (…)ce_transformers.json:   0%|          | 0.00/116 [00:00<?, ?B/s]"
            ],
            "application/vnd.jupyter.widget-view+json": {
              "version_major": 2,
              "version_minor": 0,
              "model_id": "a91b586064e740feb8eeb27c02590ccf"
            }
          },
          "metadata": {}
        },
        {
          "output_type": "display_data",
          "data": {
            "text/plain": [
              "Downloading (…)e1d/data_config.json:   0%|          | 0.00/39.3k [00:00<?, ?B/s]"
            ],
            "application/vnd.jupyter.widget-view+json": {
              "version_major": 2,
              "version_minor": 0,
              "model_id": "ee4622ffc57b421d8ab54a678bf524c3"
            }
          },
          "metadata": {}
        },
        {
          "output_type": "display_data",
          "data": {
            "text/plain": [
              "Downloading pytorch_model.bin:   0%|          | 0.00/438M [00:00<?, ?B/s]"
            ],
            "application/vnd.jupyter.widget-view+json": {
              "version_major": 2,
              "version_minor": 0,
              "model_id": "7aa7c814c69e4f30ab54c7fed798031f"
            }
          },
          "metadata": {}
        },
        {
          "output_type": "display_data",
          "data": {
            "text/plain": [
              "Downloading (…)nce_bert_config.json:   0%|          | 0.00/53.0 [00:00<?, ?B/s]"
            ],
            "application/vnd.jupyter.widget-view+json": {
              "version_major": 2,
              "version_minor": 0,
              "model_id": "2ab01b6399ef40fba0e62527ccfe2b0c"
            }
          },
          "metadata": {}
        },
        {
          "output_type": "display_data",
          "data": {
            "text/plain": [
              "Downloading (…)cial_tokens_map.json:   0%|          | 0.00/239 [00:00<?, ?B/s]"
            ],
            "application/vnd.jupyter.widget-view+json": {
              "version_major": 2,
              "version_minor": 0,
              "model_id": "000421c2dae04292b304b5821cb1da18"
            }
          },
          "metadata": {}
        },
        {
          "output_type": "display_data",
          "data": {
            "text/plain": [
              "Downloading (…)a8e1d/tokenizer.json:   0%|          | 0.00/466k [00:00<?, ?B/s]"
            ],
            "application/vnd.jupyter.widget-view+json": {
              "version_major": 2,
              "version_minor": 0,
              "model_id": "43fea82a481b4ecbb1ff5f230e8cc892"
            }
          },
          "metadata": {}
        },
        {
          "output_type": "display_data",
          "data": {
            "text/plain": [
              "Downloading (…)okenizer_config.json:   0%|          | 0.00/363 [00:00<?, ?B/s]"
            ],
            "application/vnd.jupyter.widget-view+json": {
              "version_major": 2,
              "version_minor": 0,
              "model_id": "9ae513e627704134ad081e1dea561753"
            }
          },
          "metadata": {}
        },
        {
          "output_type": "display_data",
          "data": {
            "text/plain": [
              "Downloading (…)8e1d/train_script.py:   0%|          | 0.00/13.1k [00:00<?, ?B/s]"
            ],
            "application/vnd.jupyter.widget-view+json": {
              "version_major": 2,
              "version_minor": 0,
              "model_id": "1d277ba2fc9a4223a7b1f5b5ad9a810c"
            }
          },
          "metadata": {}
        },
        {
          "output_type": "display_data",
          "data": {
            "text/plain": [
              "Downloading (…)b20bca8e1d/vocab.txt:   0%|          | 0.00/232k [00:00<?, ?B/s]"
            ],
            "application/vnd.jupyter.widget-view+json": {
              "version_major": 2,
              "version_minor": 0,
              "model_id": "fafef24076c748fbb90b5493742fe60f"
            }
          },
          "metadata": {}
        },
        {
          "output_type": "display_data",
          "data": {
            "text/plain": [
              "Downloading (…)bca8e1d/modules.json:   0%|          | 0.00/349 [00:00<?, ?B/s]"
            ],
            "application/vnd.jupyter.widget-view+json": {
              "version_major": 2,
              "version_minor": 0,
              "model_id": "143eb44c074f4037a4eeb61be9d52517"
            }
          },
          "metadata": {}
        }
      ]
    },
    {
      "cell_type": "markdown",
      "source": [
        "Use this algorithm to encode the data in the database"
      ],
      "metadata": {
        "id": "Ph24xTeVgTpU"
      }
    },
    {
      "cell_type": "code",
      "source": [
        "embeddings = MODEL_ST.encode(posts.cleaned_body.values, normalize_embeddings=True)"
      ],
      "metadata": {
        "id": "v-TTENiM5vn2"
      },
      "execution_count": null,
      "outputs": []
    },
    {
      "cell_type": "markdown",
      "source": [
        "*If this process is slow, you can save this array in case you need to load it again*"
      ],
      "metadata": {
        "id": "TBJ0W5UygN9C"
      }
    },
    {
      "cell_type": "code",
      "source": [
        "import pickle\n",
        "\n",
        "with open(os.path.join(DATA_PATH, 'embeddings.pkl', 'wb') as file:\n",
        "    pickle.dump(embeddings, file)"
      ],
      "metadata": {
        "id": "Qkw285npGxmY"
      },
      "execution_count": null,
      "outputs": []
    },
    {
      "cell_type": "markdown",
      "source": [
        "Make a function that transforms the input"
      ],
      "metadata": {
        "id": "2Hy__GOwgbIG"
      }
    },
    {
      "cell_type": "code",
      "source": [
        "def encode_query(query : str) ->  numpy.ndarray:\n",
        "    #TODO\n",
        "    return encoded_query"
      ],
      "metadata": {
        "id": "35As3cuYgRWq"
      },
      "execution_count": null,
      "outputs": []
    },
    {
      "cell_type": "markdown",
      "source": [
        "Which distance is most relevant to measure the distance between the input and the data?"
      ],
      "metadata": {
        "id": "xFD6pJIpgEz8"
      }
    },
    {
      "cell_type": "markdown",
      "source": [
        "Answer here"
      ],
      "metadata": {
        "id": "2XHL8gFRIUu8"
      }
    },
    {
      "cell_type": "markdown",
      "source": [
        "Write a function that returns a matrix containing information about the similarity between the query and the data"
      ],
      "metadata": {
        "id": "6LxvJiVKIv-V"
      }
    },
    {
      "cell_type": "code",
      "source": [
        "def similarity(query, embeddings=embeddings):\n",
        "    #TODO\n",
        "    return similarity_matrix"
      ],
      "metadata": {
        "id": "ZtDl3Cicf9wd"
      },
      "execution_count": null,
      "outputs": []
    },
    {
      "cell_type": "code",
      "source": [
        "matrix_similarity = similarity(query, embeddings)"
      ],
      "metadata": {
        "id": "_oR0xnZCJKfc"
      },
      "execution_count": null,
      "outputs": []
    },
    {
      "cell_type": "markdown",
      "source": [
        "How do you determine which documents in the data set most closely match the input?"
      ],
      "metadata": {
        "id": "2dRGokvThOcs"
      }
    },
    {
      "cell_type": "code",
      "source": [
        "def ordre_en_fonction_similarité(matrix_similarity):\n",
        "    #TODO\n",
        "    return ordre"
      ],
      "metadata": {
        "id": "jd1UD26VhN_9"
      },
      "execution_count": null,
      "outputs": []
    },
    {
      "cell_type": "code",
      "source": [
        "assert ordre_en_fonction_similarité([0.6, 0.8, 0.7]) == [1, 2, 0]"
      ],
      "metadata": {
        "id": "9-CoY6VUj5EE",
        "outputId": "81ec6aa6-f24b-478f-c70a-6f85ae8ac78b",
        "colab": {
          "base_uri": "https://localhost:8080/"
        }
      },
      "execution_count": null,
      "outputs": [
        {
          "output_type": "execute_result",
          "data": {
            "text/plain": [
              "[1, 2, 0]"
            ]
          },
          "metadata": {},
          "execution_count": 34
        }
      ]
    },
    {
      "cell_type": "markdown",
      "source": [
        "Put it all together in a function."
      ],
      "metadata": {
        "id": "a3IBMm8HisWy"
      }
    },
    {
      "cell_type": "code",
      "source": [
        "def closest_semantic_doc(query, embeddings=embeddings, top_n=10):\n",
        "    return closest_posts"
      ],
      "metadata": {
        "id": "BOFygRpbifXw"
      },
      "execution_count": null,
      "outputs": []
    },
    {
      "cell_type": "markdown",
      "source": [
        "What methods could be used to improve the recommendations of this algorithm?"
      ],
      "metadata": {
        "id": "ouUjQrhgjEDs"
      }
    },
    {
      "cell_type": "markdown",
      "source": [
        "Answer here"
      ],
      "metadata": {
        "id": "_v7HI2pDJk-f"
      }
    },
    {
      "cell_type": "code",
      "source": [
        "#todo"
      ],
      "metadata": {
        "id": "vNP-BErhJm4N"
      },
      "execution_count": null,
      "outputs": []
    },
    {
      "cell_type": "markdown",
      "source": [
        "## Text clustering (BONUS)"
      ],
      "metadata": {
        "id": "fa4Ij2usk8Gb"
      }
    },
    {
      "cell_type": "markdown",
      "source": [
        "We can use topic modeling techniques to identify groups of texts among our document base and classify the input to restrict the application of the proximity calculations seen previously."
      ],
      "metadata": {
        "id": "EfZcQyxLox8U"
      }
    },
    {
      "cell_type": "markdown",
      "source": [
        "#### LDA"
      ],
      "metadata": {
        "id": "kt9_ujt6sVMg"
      }
    },
    {
      "cell_type": "markdown",
      "source": [
        "Latent Dirichlet Allocation is a topic modeling algorithm that allows soft clustering. Soft clustering means that the LDA does not allocate an input to a cluster, but gives a probabilistic score for each identified cluster. This decomposition allows to identify topics within the documents. \n",
        "\n",
        "In order to compute this algorithm, you need to vectorize your data (you can use the one you have already done previously or make another one)."
      ],
      "metadata": {
        "id": "eH2IG1iyTxiD"
      }
    },
    {
      "cell_type": "code",
      "source": [
        "# Vectorize document using TF-IDF\n",
        "vectorizer_lda = \n",
        "\n",
        "# Fit and Transform the documents\n",
        "train_data = vectorizer_lda.fit_transform(posts.cleaned_body.values)"
      ],
      "metadata": {
        "id": "BfpEOZYkk7kH"
      },
      "execution_count": null,
      "outputs": []
    },
    {
      "cell_type": "markdown",
      "source": [
        "You can use Gensim or scikit-learn to compute LDA."
      ],
      "metadata": {
        "id": "WSZ1kI3JWfTL"
      }
    },
    {
      "cell_type": "code",
      "source": [
        "#TODO"
      ],
      "metadata": {
        "id": "oDGFnU1CJ6_w"
      },
      "execution_count": null,
      "outputs": []
    },
    {
      "cell_type": "markdown",
      "source": [
        "Assign a main topic to each document"
      ],
      "metadata": {
        "id": "nG_grQ93tMIB"
      }
    },
    {
      "cell_type": "code",
      "source": [
        "topic_documents = "
      ],
      "metadata": {
        "id": "ZM3cSJrWuYT_"
      },
      "execution_count": null,
      "outputs": []
    },
    {
      "cell_type": "markdown",
      "source": [
        "Write a function that assigns a topic to the query\n"
      ],
      "metadata": {
        "id": "oO1ZaPy6s6Uf"
      }
    },
    {
      "cell_type": "code",
      "source": [
        "def get_topic_query(query, vectorizer=vectorizer_lda, lda_model=lda_model) -> int:\n",
        "    #TODO\n",
        "    return topic_query"
      ],
      "metadata": {
        "id": "n86QrUuus5Bh"
      },
      "execution_count": null,
      "outputs": []
    },
    {
      "cell_type": "markdown",
      "source": [
        "## Merge methods"
      ],
      "metadata": {
        "id": "ZQfMqiMpvKk5"
      }
    },
    {
      "cell_type": "markdown",
      "source": [
        "Write an algorithm to merge the methods seen. Which methods to use? How can you check if they are relevant ?"
      ],
      "metadata": {
        "id": "Ll1RCEV-vVbJ"
      }
    },
    {
      "cell_type": "markdown",
      "source": [
        "Answer here"
      ],
      "metadata": {
        "id": "-vIibmanKPLC"
      }
    },
    {
      "cell_type": "code",
      "source": [
        "def nlp_search_algorithm(query,\n",
        "                         topic_documents=topic_documents,\n",
        "                         vectors=vectors,\n",
        "                         vectorizer=vectorizer,\n",
        "                         vectorizer_lda=vectorizer_lda,\n",
        "                         lda_model=lda_model,\n",
        "                         embeddings=embeddings,\n",
        "                         top_n=10\n",
        "                         )->list:\n",
        "    #TODO\n",
        " \n",
        "    return matching_posts\n",
        "\n",
        "\n"
      ],
      "metadata": {
        "id": "v2GUl3uHSJej"
      },
      "execution_count": null,
      "outputs": []
    },
    {
      "cell_type": "markdown",
      "source": [
        "Once you have a list of possible results, you can it: (you can use one of the ranking algorithms you have previously done or make up a new one)"
      ],
      "metadata": {
        "id": "mWh3EuXiT_Qc"
      }
    },
    {
      "cell_type": "code",
      "source": [
        "def rank(possible_results):\n",
        "    #to_do\n",
        "    return possible_results"
      ],
      "metadata": {
        "id": "9FbEcpONT-1Z"
      },
      "execution_count": null,
      "outputs": []
    },
    {
      "cell_type": "markdown",
      "source": [
        "## Incorporation in the search engine"
      ],
      "metadata": {
        "id": "pJ3vhg1kpX6l"
      }
    },
    {
      "cell_type": "markdown",
      "source": [
        "### Addition of metadata"
      ],
      "metadata": {
        "id": "4CDbNI-qpf3z"
      }
    },
    {
      "cell_type": "markdown",
      "source": [
        "You must now have a new set of metadata and data to add to your original index. You can load the index you had as a result of Day 2 and today's work to it. "
      ],
      "metadata": {
        "id": "yZBXyHN3MKBx"
      }
    },
    {
      "cell_type": "code",
      "source": [
        "#load previous data \n",
        "\n",
        "#TODO "
      ],
      "metadata": {
        "id": "dK9U-NB0MctD"
      },
      "execution_count": null,
      "outputs": []
    },
    {
      "cell_type": "code",
      "source": [
        "# add the new data to the previous index"
      ],
      "metadata": {
        "id": "yV6jul7jNW7y"
      },
      "execution_count": null,
      "outputs": []
    },
    {
      "cell_type": "markdown",
      "source": [
        "Hint : if you have changed the preprocessing function at the beginning of this notebook make sure to update the Clean Body attribute"
      ],
      "metadata": {
        "id": "HvDxs_EZKyeO"
      }
    },
    {
      "cell_type": "markdown",
      "source": [
        "### Adaptation to the index format\n",
        "\n",
        "Adapt your nlp search results to the index format"
      ],
      "metadata": {
        "id": "AZ8PuvLBUap8"
      }
    },
    {
      "cell_type": "code",
      "source": [
        "def nlp_search_in_index(query,\n",
        "                        index,\n",
        "                        args):\n",
        "\n",
        "    return matching_posts\n",
        "  "
      ],
      "metadata": {
        "id": "alY_kdTOUaFa"
      },
      "execution_count": null,
      "outputs": []
    },
    {
      "cell_type": "markdown",
      "source": [
        "### Compare the new searching and ranking method to the previous ones\n",
        "\n",
        "Compare in terms of efficiency (precision, completeness, speed, memory usage)"
      ],
      "metadata": {
        "id": "vPC4lvgeUpAX"
      }
    },
    {
      "cell_type": "markdown",
      "source": [
        "### merge all methods to make an efficient search algorithm"
      ],
      "metadata": {
        "id": "N_yte-oapjFW"
      }
    },
    {
      "cell_type": "code",
      "source": [],
      "metadata": {
        "id": "kGcqIGl8pXhX"
      },
      "execution_count": null,
      "outputs": []
    },
    {
      "cell_type": "code",
      "source": [],
      "metadata": {
        "id": "CU2e3tgiIHzr"
      },
      "execution_count": null,
      "outputs": []
    }
  ]
}